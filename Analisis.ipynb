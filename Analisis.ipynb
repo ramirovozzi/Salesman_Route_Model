{
 "cells": [
  {
   "cell_type": "code",
   "execution_count": 1,
   "id": "0fabd789",
   "metadata": {},
   "outputs": [
    {
     "name": "stdout",
     "output_type": "stream",
     "text": [
      "Wall time: 2.48 s\n"
     ]
    }
   ],
   "source": [
    "%%time\n",
    "import pandas as pd\n",
    "import os\n",
    "from datetime import date\n",
    "from datetime import datetime \n",
    "import numpy as np\n",
    "from sklearn.model_selection import train_test_split\n",
    "\n",
    "direc = 'C:/Users/rvozzi/OneDrive - genommalabinternacional/Documentos/ECD/Seminario/TP/'\n",
    "\n",
    "mercado = 'BENGUE'\n",
    "\n",
    "labo = 'Genomma Lab.'\n",
    "\n",
    "#Leo el archivo transformado\n",
    "data = pd.read_csv(direc + 'pred_' + mercado + '.csv')"
   ]
  },
  {
   "cell_type": "code",
   "execution_count": 2,
   "id": "f46c255f",
   "metadata": {},
   "outputs": [],
   "source": [
    "data = data[data['lab']==labo]"
   ]
  },
  {
   "cell_type": "code",
   "execution_count": 3,
   "id": "de9ba8c1",
   "metadata": {},
   "outputs": [
    {
     "data": {
      "text/plain": [
       "Index(['cpa', 'Marca', 'Submarca', 'pres_desc', 'lab', 'Segmento', 'PROVINCIA',\n",
       "       'LOCALIDAD', 'RUTA', 'VISITA', 'Monto', 'Monto_Predicho',\n",
       "       'Oportunidad'],\n",
       "      dtype='object')"
      ]
     },
     "execution_count": 3,
     "metadata": {},
     "output_type": "execute_result"
    }
   ],
   "source": [
    "data.columns"
   ]
  },
  {
   "cell_type": "markdown",
   "id": "f08ec7ae",
   "metadata": {},
   "source": [
    "# 1. Top Farmacias segun oportunidad"
   ]
  },
  {
   "cell_type": "code",
   "execution_count": 4,
   "id": "4e26ea52",
   "metadata": {},
   "outputs": [],
   "source": [
    "rank_f = data.groupby(['cpa', 'LOCALIDAD', 'RUTA', 'VISITA'], as_index = False)['Oportunidad'].sum()\n",
    "rank_f = rank_f.sort_values(by=['Oportunidad'], ascending=False)"
   ]
  },
  {
   "cell_type": "code",
   "execution_count": 5,
   "id": "7a74ff36",
   "metadata": {},
   "outputs": [
    {
     "data": {
      "text/html": [
       "<div>\n",
       "<style scoped>\n",
       "    .dataframe tbody tr th:only-of-type {\n",
       "        vertical-align: middle;\n",
       "    }\n",
       "\n",
       "    .dataframe tbody tr th {\n",
       "        vertical-align: top;\n",
       "    }\n",
       "\n",
       "    .dataframe thead th {\n",
       "        text-align: right;\n",
       "    }\n",
       "</style>\n",
       "<table border=\"1\" class=\"dataframe\">\n",
       "  <thead>\n",
       "    <tr style=\"text-align: right;\">\n",
       "      <th></th>\n",
       "      <th>cpa</th>\n",
       "      <th>LOCALIDAD</th>\n",
       "      <th>RUTA</th>\n",
       "      <th>VISITA</th>\n",
       "      <th>Oportunidad</th>\n",
       "    </tr>\n",
       "  </thead>\n",
       "  <tbody>\n",
       "    <tr>\n",
       "      <th>11908</th>\n",
       "      <td>U9000ALR</td>\n",
       "      <td>COMODORO RIVADAVIA</td>\n",
       "      <td>FUERA RUTA</td>\n",
       "      <td>NO ATENDIDAS</td>\n",
       "      <td>2.544170e+06</td>\n",
       "    </tr>\n",
       "    <tr>\n",
       "      <th>11957</th>\n",
       "      <td>U9100HNL</td>\n",
       "      <td>TRELEW</td>\n",
       "      <td>CADENAS CUYO</td>\n",
       "      <td>VISITADA</td>\n",
       "      <td>2.050257e+06</td>\n",
       "    </tr>\n",
       "    <tr>\n",
       "      <th>14374</th>\n",
       "      <td>X5900FNH</td>\n",
       "      <td>VILLA MARIA</td>\n",
       "      <td>CÓRDOBA</td>\n",
       "      <td>VISITADA</td>\n",
       "      <td>1.886173e+06</td>\n",
       "    </tr>\n",
       "    <tr>\n",
       "      <th>11961</th>\n",
       "      <td>U9102BHX</td>\n",
       "      <td>0</td>\n",
       "      <td>FUERA RUTA</td>\n",
       "      <td>NO ATENDIDAS</td>\n",
       "      <td>1.745810e+06</td>\n",
       "    </tr>\n",
       "    <tr>\n",
       "      <th>13329</th>\n",
       "      <td>X5012HXN</td>\n",
       "      <td>AMP RESIDENCIAL AMERICA</td>\n",
       "      <td>CADENAS CORDOBA</td>\n",
       "      <td>VISITADA</td>\n",
       "      <td>1.251906e+06</td>\n",
       "    </tr>\n",
       "    <tr>\n",
       "      <th>...</th>\n",
       "      <td>...</td>\n",
       "      <td>...</td>\n",
       "      <td>...</td>\n",
       "      <td>...</td>\n",
       "      <td>...</td>\n",
       "    </tr>\n",
       "    <tr>\n",
       "      <th>5834</th>\n",
       "      <td>C1429BTL</td>\n",
       "      <td>CAPITAL FEDERAL (CABA)</td>\n",
       "      <td>CABA</td>\n",
       "      <td>NO VISITADA</td>\n",
       "      <td>-5.226994e+05</td>\n",
       "    </tr>\n",
       "    <tr>\n",
       "      <th>2128</th>\n",
       "      <td>B1842DIC</td>\n",
       "      <td>EL JAGUEL</td>\n",
       "      <td>CADENAS BA</td>\n",
       "      <td>VISITADA</td>\n",
       "      <td>-5.271572e+05</td>\n",
       "    </tr>\n",
       "    <tr>\n",
       "      <th>114</th>\n",
       "      <td>A4402EUI</td>\n",
       "      <td>SALTA</td>\n",
       "      <td>NOA NORTE</td>\n",
       "      <td>VISITADA</td>\n",
       "      <td>-5.739901e+05</td>\n",
       "    </tr>\n",
       "    <tr>\n",
       "      <th>656</th>\n",
       "      <td>B1642DHI</td>\n",
       "      <td>SAN ISIDRO</td>\n",
       "      <td>GBA NORTE</td>\n",
       "      <td>VISITADA</td>\n",
       "      <td>-1.078955e+06</td>\n",
       "    </tr>\n",
       "    <tr>\n",
       "      <th>5131</th>\n",
       "      <td>C1152ABP</td>\n",
       "      <td>CAPITAL FEDERAL (CABA)</td>\n",
       "      <td>CABA</td>\n",
       "      <td>VISITADA</td>\n",
       "      <td>-2.460775e+06</td>\n",
       "    </tr>\n",
       "  </tbody>\n",
       "</table>\n",
       "<p>14888 rows × 5 columns</p>\n",
       "</div>"
      ],
      "text/plain": [
       "            cpa                LOCALIDAD             RUTA        VISITA  \\\n",
       "11908  U9000ALR       COMODORO RIVADAVIA       FUERA RUTA  NO ATENDIDAS   \n",
       "11957  U9100HNL                   TRELEW     CADENAS CUYO      VISITADA   \n",
       "14374  X5900FNH              VILLA MARIA          CÓRDOBA      VISITADA   \n",
       "11961  U9102BHX                        0       FUERA RUTA  NO ATENDIDAS   \n",
       "13329  X5012HXN  AMP RESIDENCIAL AMERICA  CADENAS CORDOBA      VISITADA   \n",
       "...         ...                      ...              ...           ...   \n",
       "5834   C1429BTL   CAPITAL FEDERAL (CABA)             CABA   NO VISITADA   \n",
       "2128   B1842DIC                EL JAGUEL       CADENAS BA      VISITADA   \n",
       "114    A4402EUI                    SALTA        NOA NORTE      VISITADA   \n",
       "656    B1642DHI               SAN ISIDRO        GBA NORTE      VISITADA   \n",
       "5131   C1152ABP   CAPITAL FEDERAL (CABA)             CABA      VISITADA   \n",
       "\n",
       "        Oportunidad  \n",
       "11908  2.544170e+06  \n",
       "11957  2.050257e+06  \n",
       "14374  1.886173e+06  \n",
       "11961  1.745810e+06  \n",
       "13329  1.251906e+06  \n",
       "...             ...  \n",
       "5834  -5.226994e+05  \n",
       "2128  -5.271572e+05  \n",
       "114   -5.739901e+05  \n",
       "656   -1.078955e+06  \n",
       "5131  -2.460775e+06  \n",
       "\n",
       "[14888 rows x 5 columns]"
      ]
     },
     "execution_count": 5,
     "metadata": {},
     "output_type": "execute_result"
    }
   ],
   "source": [
    "rank_f"
   ]
  },
  {
   "cell_type": "code",
   "execution_count": 6,
   "id": "87a8b81d",
   "metadata": {},
   "outputs": [
    {
     "data": {
      "text/plain": [
       "302531532.32363397"
      ]
     },
     "execution_count": 6,
     "metadata": {},
     "output_type": "execute_result"
    }
   ],
   "source": [
    "rank_f['Oportunidad'].sum()"
   ]
  },
  {
   "cell_type": "code",
   "execution_count": 7,
   "id": "0fcff047",
   "metadata": {},
   "outputs": [
    {
     "data": {
      "text/plain": [
       "VISITA\n",
       "NO ATENDIDAS    7.326160e+07\n",
       "NO VISITADA     1.672670e+08\n",
       "VISITADA        6.200291e+07\n",
       "Name: Oportunidad, dtype: float64"
      ]
     },
     "execution_count": 7,
     "metadata": {},
     "output_type": "execute_result"
    }
   ],
   "source": [
    "rank_f.groupby(['VISITA'])['Oportunidad'].sum()"
   ]
  },
  {
   "cell_type": "code",
   "execution_count": 8,
   "id": "c1038f47",
   "metadata": {},
   "outputs": [],
   "source": [
    "rank_f.to_csv(path_or_buf = 'C:/Users/rvozzi/Downloads/rank_f.csv',\n",
    "                    sep = ';', index = False)"
   ]
  },
  {
   "cell_type": "markdown",
   "id": "63e9470d",
   "metadata": {},
   "source": [
    "# 2. Oportunidad segun pres_desc"
   ]
  },
  {
   "cell_type": "code",
   "execution_count": 9,
   "id": "5dbf22ef",
   "metadata": {},
   "outputs": [],
   "source": [
    "rank_p = data.groupby(['pres_desc'], as_index = False)['Oportunidad'].sum()\n",
    "rank_p = rank_p.sort_values(by=['Oportunidad'], ascending=False)"
   ]
  },
  {
   "cell_type": "code",
   "execution_count": 10,
   "id": "febc0676",
   "metadata": {},
   "outputs": [
    {
     "data": {
      "text/html": [
       "<div>\n",
       "<style scoped>\n",
       "    .dataframe tbody tr th:only-of-type {\n",
       "        vertical-align: middle;\n",
       "    }\n",
       "\n",
       "    .dataframe tbody tr th {\n",
       "        vertical-align: top;\n",
       "    }\n",
       "\n",
       "    .dataframe thead th {\n",
       "        text-align: right;\n",
       "    }\n",
       "</style>\n",
       "<table border=\"1\" class=\"dataframe\">\n",
       "  <thead>\n",
       "    <tr style=\"text-align: right;\">\n",
       "      <th></th>\n",
       "      <th>pres_desc</th>\n",
       "      <th>Oportunidad</th>\n",
       "    </tr>\n",
       "  </thead>\n",
       "  <tbody>\n",
       "    <tr>\n",
       "      <th>1</th>\n",
       "      <td>BENGUE DESINFLAMANTE pomada x 220 g</td>\n",
       "      <td>6.750902e+07</td>\n",
       "    </tr>\n",
       "    <tr>\n",
       "      <th>4</th>\n",
       "      <td>BENGUE Gel x 65g</td>\n",
       "      <td>6.586762e+07</td>\n",
       "    </tr>\n",
       "    <tr>\n",
       "      <th>2</th>\n",
       "      <td>BENGUE DESINFLAMANTE pomada x 65 g</td>\n",
       "      <td>5.211495e+07</td>\n",
       "    </tr>\n",
       "    <tr>\n",
       "      <th>5</th>\n",
       "      <td>BENGUE sin olor gel x 35 g</td>\n",
       "      <td>4.889939e+07</td>\n",
       "    </tr>\n",
       "    <tr>\n",
       "      <th>3</th>\n",
       "      <td>BENGUE Gel x 35g</td>\n",
       "      <td>4.264100e+07</td>\n",
       "    </tr>\n",
       "    <tr>\n",
       "      <th>0</th>\n",
       "      <td>BENGUE DESINFLAMANTE POMADA X 150 Gr</td>\n",
       "      <td>2.549956e+07</td>\n",
       "    </tr>\n",
       "  </tbody>\n",
       "</table>\n",
       "</div>"
      ],
      "text/plain": [
       "                              pres_desc   Oportunidad\n",
       "1   BENGUE DESINFLAMANTE pomada x 220 g  6.750902e+07\n",
       "4                      BENGUE Gel x 65g  6.586762e+07\n",
       "2    BENGUE DESINFLAMANTE pomada x 65 g  5.211495e+07\n",
       "5            BENGUE sin olor gel x 35 g  4.889939e+07\n",
       "3                      BENGUE Gel x 35g  4.264100e+07\n",
       "0  BENGUE DESINFLAMANTE POMADA X 150 Gr  2.549956e+07"
      ]
     },
     "execution_count": 10,
     "metadata": {},
     "output_type": "execute_result"
    }
   ],
   "source": [
    "rank_p"
   ]
  },
  {
   "cell_type": "code",
   "execution_count": 11,
   "id": "62e9970e",
   "metadata": {},
   "outputs": [],
   "source": [
    "rank_p1 = data.groupby(['pres_desc', 'VISITA'], as_index = False)['Oportunidad'].sum()"
   ]
  },
  {
   "cell_type": "code",
   "execution_count": 12,
   "id": "3a42e0c6",
   "metadata": {},
   "outputs": [
    {
     "data": {
      "text/html": [
       "<div>\n",
       "<style scoped>\n",
       "    .dataframe tbody tr th:only-of-type {\n",
       "        vertical-align: middle;\n",
       "    }\n",
       "\n",
       "    .dataframe tbody tr th {\n",
       "        vertical-align: top;\n",
       "    }\n",
       "\n",
       "    .dataframe thead th {\n",
       "        text-align: right;\n",
       "    }\n",
       "</style>\n",
       "<table border=\"1\" class=\"dataframe\">\n",
       "  <thead>\n",
       "    <tr style=\"text-align: right;\">\n",
       "      <th></th>\n",
       "      <th>pres_desc</th>\n",
       "      <th>VISITA</th>\n",
       "      <th>Oportunidad</th>\n",
       "    </tr>\n",
       "  </thead>\n",
       "  <tbody>\n",
       "    <tr>\n",
       "      <th>0</th>\n",
       "      <td>BENGUE DESINFLAMANTE POMADA X 150 Gr</td>\n",
       "      <td>NO ATENDIDAS</td>\n",
       "      <td>5.404122e+06</td>\n",
       "    </tr>\n",
       "    <tr>\n",
       "      <th>1</th>\n",
       "      <td>BENGUE DESINFLAMANTE POMADA X 150 Gr</td>\n",
       "      <td>NO VISITADA</td>\n",
       "      <td>1.496613e+07</td>\n",
       "    </tr>\n",
       "    <tr>\n",
       "      <th>2</th>\n",
       "      <td>BENGUE DESINFLAMANTE POMADA X 150 Gr</td>\n",
       "      <td>VISITADA</td>\n",
       "      <td>5.129305e+06</td>\n",
       "    </tr>\n",
       "    <tr>\n",
       "      <th>3</th>\n",
       "      <td>BENGUE DESINFLAMANTE pomada x 220 g</td>\n",
       "      <td>NO ATENDIDAS</td>\n",
       "      <td>1.647997e+07</td>\n",
       "    </tr>\n",
       "    <tr>\n",
       "      <th>4</th>\n",
       "      <td>BENGUE DESINFLAMANTE pomada x 220 g</td>\n",
       "      <td>NO VISITADA</td>\n",
       "      <td>3.758195e+07</td>\n",
       "    </tr>\n",
       "    <tr>\n",
       "      <th>5</th>\n",
       "      <td>BENGUE DESINFLAMANTE pomada x 220 g</td>\n",
       "      <td>VISITADA</td>\n",
       "      <td>1.344710e+07</td>\n",
       "    </tr>\n",
       "    <tr>\n",
       "      <th>6</th>\n",
       "      <td>BENGUE DESINFLAMANTE pomada x 65 g</td>\n",
       "      <td>NO ATENDIDAS</td>\n",
       "      <td>1.339449e+07</td>\n",
       "    </tr>\n",
       "    <tr>\n",
       "      <th>7</th>\n",
       "      <td>BENGUE DESINFLAMANTE pomada x 65 g</td>\n",
       "      <td>NO VISITADA</td>\n",
       "      <td>3.032279e+07</td>\n",
       "    </tr>\n",
       "    <tr>\n",
       "      <th>8</th>\n",
       "      <td>BENGUE DESINFLAMANTE pomada x 65 g</td>\n",
       "      <td>VISITADA</td>\n",
       "      <td>8.397667e+06</td>\n",
       "    </tr>\n",
       "    <tr>\n",
       "      <th>9</th>\n",
       "      <td>BENGUE Gel x 35g</td>\n",
       "      <td>NO ATENDIDAS</td>\n",
       "      <td>1.141512e+07</td>\n",
       "    </tr>\n",
       "    <tr>\n",
       "      <th>10</th>\n",
       "      <td>BENGUE Gel x 35g</td>\n",
       "      <td>NO VISITADA</td>\n",
       "      <td>2.421803e+07</td>\n",
       "    </tr>\n",
       "    <tr>\n",
       "      <th>11</th>\n",
       "      <td>BENGUE Gel x 35g</td>\n",
       "      <td>VISITADA</td>\n",
       "      <td>7.007846e+06</td>\n",
       "    </tr>\n",
       "    <tr>\n",
       "      <th>12</th>\n",
       "      <td>BENGUE Gel x 65g</td>\n",
       "      <td>NO ATENDIDAS</td>\n",
       "      <td>1.565359e+07</td>\n",
       "    </tr>\n",
       "    <tr>\n",
       "      <th>13</th>\n",
       "      <td>BENGUE Gel x 65g</td>\n",
       "      <td>NO VISITADA</td>\n",
       "      <td>3.440973e+07</td>\n",
       "    </tr>\n",
       "    <tr>\n",
       "      <th>14</th>\n",
       "      <td>BENGUE Gel x 65g</td>\n",
       "      <td>VISITADA</td>\n",
       "      <td>1.580430e+07</td>\n",
       "    </tr>\n",
       "    <tr>\n",
       "      <th>15</th>\n",
       "      <td>BENGUE sin olor gel x 35 g</td>\n",
       "      <td>NO ATENDIDAS</td>\n",
       "      <td>1.091431e+07</td>\n",
       "    </tr>\n",
       "    <tr>\n",
       "      <th>16</th>\n",
       "      <td>BENGUE sin olor gel x 35 g</td>\n",
       "      <td>NO VISITADA</td>\n",
       "      <td>2.576840e+07</td>\n",
       "    </tr>\n",
       "    <tr>\n",
       "      <th>17</th>\n",
       "      <td>BENGUE sin olor gel x 35 g</td>\n",
       "      <td>VISITADA</td>\n",
       "      <td>1.221668e+07</td>\n",
       "    </tr>\n",
       "  </tbody>\n",
       "</table>\n",
       "</div>"
      ],
      "text/plain": [
       "                               pres_desc        VISITA   Oportunidad\n",
       "0   BENGUE DESINFLAMANTE POMADA X 150 Gr  NO ATENDIDAS  5.404122e+06\n",
       "1   BENGUE DESINFLAMANTE POMADA X 150 Gr   NO VISITADA  1.496613e+07\n",
       "2   BENGUE DESINFLAMANTE POMADA X 150 Gr      VISITADA  5.129305e+06\n",
       "3    BENGUE DESINFLAMANTE pomada x 220 g  NO ATENDIDAS  1.647997e+07\n",
       "4    BENGUE DESINFLAMANTE pomada x 220 g   NO VISITADA  3.758195e+07\n",
       "5    BENGUE DESINFLAMANTE pomada x 220 g      VISITADA  1.344710e+07\n",
       "6     BENGUE DESINFLAMANTE pomada x 65 g  NO ATENDIDAS  1.339449e+07\n",
       "7     BENGUE DESINFLAMANTE pomada x 65 g   NO VISITADA  3.032279e+07\n",
       "8     BENGUE DESINFLAMANTE pomada x 65 g      VISITADA  8.397667e+06\n",
       "9                       BENGUE Gel x 35g  NO ATENDIDAS  1.141512e+07\n",
       "10                      BENGUE Gel x 35g   NO VISITADA  2.421803e+07\n",
       "11                      BENGUE Gel x 35g      VISITADA  7.007846e+06\n",
       "12                      BENGUE Gel x 65g  NO ATENDIDAS  1.565359e+07\n",
       "13                      BENGUE Gel x 65g   NO VISITADA  3.440973e+07\n",
       "14                      BENGUE Gel x 65g      VISITADA  1.580430e+07\n",
       "15            BENGUE sin olor gel x 35 g  NO ATENDIDAS  1.091431e+07\n",
       "16            BENGUE sin olor gel x 35 g   NO VISITADA  2.576840e+07\n",
       "17            BENGUE sin olor gel x 35 g      VISITADA  1.221668e+07"
      ]
     },
     "execution_count": 12,
     "metadata": {},
     "output_type": "execute_result"
    }
   ],
   "source": [
    "rank_p1"
   ]
  }
 ],
 "metadata": {
  "kernelspec": {
   "display_name": "Python 3 (ipykernel)",
   "language": "python",
   "name": "python3"
  },
  "language_info": {
   "codemirror_mode": {
    "name": "ipython",
    "version": 3
   },
   "file_extension": ".py",
   "mimetype": "text/x-python",
   "name": "python",
   "nbconvert_exporter": "python",
   "pygments_lexer": "ipython3",
   "version": "3.9.7"
  }
 },
 "nbformat": 4,
 "nbformat_minor": 5
}
